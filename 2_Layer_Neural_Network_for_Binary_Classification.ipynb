{
  "nbformat": 4,
  "nbformat_minor": 0,
  "metadata": {
    "colab": {
      "name": "2_Layer_Neural_Network for Binary_Classification.ipynb",
      "provenance": [],
      "collapsed_sections": [],
      "authorship_tag": "ABX9TyNasY+yJgFVPwbiZleDQk6/",
      "include_colab_link": true
    },
    "kernelspec": {
      "name": "python3",
      "display_name": "Python 3"
    },
    "language_info": {
      "name": "python"
    }
  },
  "cells": [
    {
      "cell_type": "markdown",
      "metadata": {
        "id": "view-in-github",
        "colab_type": "text"
      },
      "source": [
        "<a href=\"https://colab.research.google.com/github/Pratik00019/2-Layer-Neural-Network-for-Binary-Classification/blob/main/2_Layer_Neural_Network_for_Binary_Classification.ipynb\" target=\"_parent\"><img src=\"https://colab.research.google.com/assets/colab-badge.svg\" alt=\"Open In Colab\"/></a>"
      ]
    },
    {
      "cell_type": "code",
      "metadata": {
        "colab": {
          "base_uri": "https://localhost:8080/"
        },
        "id": "zitAp5H451Ny",
        "outputId": "765a7bc1-a23b-4996-cd04-61708d3a71f8"
      },
      "source": [
        "from google.colab import drive\n",
        "drive.mount('/content/drive')"
      ],
      "execution_count": null,
      "outputs": [
        {
          "output_type": "stream",
          "name": "stdout",
          "text": [
            "Mounted at /content/drive\n"
          ]
        }
      ]
    },
    {
      "cell_type": "code",
      "metadata": {
        "id": "Y4RkC2rFZam7"
      },
      "source": [
        "import numpy as np\n",
        "import matplotlib.pyplot as plt\n",
        "import h5py\n",
        "import scipy\n",
        "from PIL import Image\n",
        "from scipy import ndimage\n",
        "%matplotlib inline"
      ],
      "execution_count": null,
      "outputs": []
    },
    {
      "cell_type": "code",
      "metadata": {
        "id": "nsvxQrEbiVJ1"
      },
      "source": [
        "def load_dataset():\n",
        "    with h5py.File('/content/train_catvnoncat.h5', \"r\") as train_dataset:\n",
        "        train_set_x_orig = np.array(train_dataset[\"train_set_x\"][:])\n",
        "        train_set_y_orig = np.array(train_dataset[\"train_set_y\"][:])\n",
        "\n",
        "    with h5py.File('/content/test_catvnoncat.h5', \"r\") as test_dataset:\n",
        "        test_set_x_orig = np.array(test_dataset[\"test_set_x\"][:])\n",
        "        test_set_y_orig = np.array(test_dataset[\"test_set_y\"][:])\n",
        "        classes = np.array(test_dataset[\"list_classes\"][:])\n",
        "\n",
        "\n",
        "    train_set_y_orig = train_set_y_orig.reshape((1, train_set_y_orig.shape[0]))\n",
        "    test_set_y_orig = test_set_y_orig.reshape((1, test_set_y_orig.shape[0]))\n",
        "\n",
        "    return train_set_x_orig, train_set_y_orig, test_set_x_orig, test_set_y_orig, classes"
      ],
      "execution_count": null,
      "outputs": []
    },
    {
      "cell_type": "code",
      "metadata": {
        "id": "kXkA_6fYceGF",
        "colab": {
          "base_uri": "https://localhost:8080/"
        },
        "outputId": "375e6a31-e665-468a-ad54-268fead4dc15"
      },
      "source": [
        "train_set_x_orig, train_set_y, test_set_x_orig, test_set_y, classes = load_dataset()\n",
        "\n",
        "train_set_x_flatten=train_set_x_orig.reshape(train_set_x_orig.shape[0],-1).T\n",
        "test_set_x_flatten=test_set_x_orig.reshape(test_set_x_orig.shape[0],-1).T\n",
        "\n",
        "train_set_x = train_set_x_flatten/255.\n",
        "test_set_x=test_set_x_flatten/255\n",
        "\n",
        "print(train_set_x.shape)\n",
        "print(test_set_x.shape)\n"
      ],
      "execution_count": null,
      "outputs": [
        {
          "output_type": "stream",
          "name": "stdout",
          "text": [
            "(12288, 209)\n",
            "(12288, 50)\n"
          ]
        }
      ]
    },
    {
      "cell_type": "code",
      "metadata": {
        "colab": {
          "base_uri": "https://localhost:8080/",
          "height": 285
        },
        "id": "YzSKKltA2oFY",
        "outputId": "da0a5602-ecfb-4501-b855-6892af12680a"
      },
      "source": [
        "index = 1\n",
        "plt.imshow(train_set_x_orig[index])"
      ],
      "execution_count": null,
      "outputs": [
        {
          "output_type": "execute_result",
          "data": {
            "text/plain": [
              "<matplotlib.image.AxesImage at 0x7f9c37afff10>"
            ]
          },
          "metadata": {},
          "execution_count": 8
        },
        {
          "output_type": "display_data",
          "data": {
            "image/png": "[encoded data removed]",
            "text/plain": [
              "<Figure size 432x288 with 1 Axes>"
            ]
          },
          "metadata": {
            "needs_background": "light"
          }
        }
      ]
    },
    {
      "cell_type": "code",
      "metadata": {
        "id": "h2XyuNIhcmbB"
      },
      "source": [
        "def layer_sizes(X,Y):\n",
        "  n_x=X.shape[0] #size of input layer\n",
        "  n_h=7         #size of hidden layer\n",
        "  n_y=Y.shape[0] #size of output layer\n",
        "\n",
        "  return n_x,n_h,n_y"
      ],
      "execution_count": null,
      "outputs": []
    },
    {
      "cell_type": "markdown",
      "metadata": {
        "id": "PxbOXog8AUiV"
      },
      "source": [
        "**As usual we will follow the Deep Learning methodology to build the model: 1. Initialize parameters / Define hyperparameters 2. Loop for num_iterations: a. Forward propagation b. Compute cost function c. Backward propagation d. Update parameters (using parameters, and grads from backprop) 4. Use trained parameters to predict labels**"
      ]
    },
    {
      "cell_type": "code",
      "metadata": {
        "id": "eC717-EgH6En"
      },
      "source": [
        "def sigmoid(Z):\n",
        "    \"\"\"\n",
        "    Implements the sigmoid activation in numpy\n",
        "    \n",
        "    Arguments:\n",
        "    Z -- numpy array of any shape\n",
        "    \n",
        "    Returns:\n",
        "    A -- output of sigmoid(z), same shape as Z\n",
        "    cache -- returns Z as well, useful during backpropagation\n",
        "    \"\"\"\n",
        "    \n",
        "    A = 1/(1+np.exp(-Z))\n",
        "    cache = Z\n",
        "    \n",
        "    return A, cache\n",
        "\n",
        "def relu(Z):\n",
        "    \"\"\"\n",
        "    Implement the RELU function.\n",
        "\n",
        "    Arguments:\n",
        "    Z -- Output of the linear layer, of any shape\n",
        "\n",
        "    Returns:\n",
        "    A -- Post-activation parameter, of the same shape as Z\n",
        "    cache -- a python dictionary containing \"A\" ; stored for computing the backward pass efficiently\n",
        "    \"\"\"\n",
        "    \n",
        "    A = np.maximum(0,Z)\n",
        "    \n",
        "    assert(A.shape == Z.shape)\n",
        "    \n",
        "    cache = Z \n",
        "    return A, cache\n",
        "\n",
        "\n",
        "def relu_backward(dA, cache):\n",
        "    \"\"\"\n",
        "    Implement the backward propagation for a single RELU unit.\n",
        "\n",
        "    Arguments:\n",
        "    dA -- post-activation gradient, of any shape\n",
        "    cache -- 'Z' where we store for computing backward propagation efficiently\n",
        "\n",
        "    Returns:\n",
        "    dZ -- Gradient of the cost with respect to Z\n",
        "    \"\"\"\n",
        "    \n",
        "    Z = cache\n",
        "    dZ = np.array(dA, copy=True) # just converting dz to a correct object.\n",
        "    \n",
        "    # When z <= 0, you should set dz to 0 as well. \n",
        "    dZ[Z <= 0] = 0\n",
        "    \n",
        "    assert (dZ.shape == Z.shape)\n",
        "    \n",
        "    return dZ\n",
        "\n",
        "def sigmoid_backward(dA, cache):\n",
        "    \"\"\"\n",
        "    Implement the backward propagation for a single SIGMOID unit.\n",
        "\n",
        "    Arguments:\n",
        "    dA -- post-activation gradient, of any shape\n",
        "    cache -- 'Z' where we store for computing backward propagation efficiently\n",
        "\n",
        "    Returns:\n",
        "    dZ -- Gradient of the cost with respect to Z\n",
        "    \"\"\"\n",
        "    \n",
        "    Z = cache\n",
        "    \n",
        "    s = 1/(1+np.exp(-Z))\n",
        "    dZ = dA * s * (1-s)\n",
        "    \n",
        "    assert (dZ.shape == Z.shape)\n",
        "    \n",
        "    return dZ"
      ],
      "execution_count": null,
      "outputs": []
    },
    {
      "cell_type": "code",
      "metadata": {
        "id": "VObPbxJwmbfT"
      },
      "source": [
        "def initialize_parameters(n_x, n_h, n_y):\n",
        "  \n",
        "    W1 = np.random.randn(n_h, n_x)*0.01\n",
        "    b1 = np.zeros((n_h,1))\n",
        "    W2 = np.random.randn(n_y, n_h)*0.01\n",
        "    b2 = np.zeros((n_y,1))\n",
        "    \n",
        "    assert(W1.shape == (n_h, n_x))\n",
        "    assert(b1.shape == (n_h, 1))\n",
        "    assert(W2.shape == (n_y, n_h))\n",
        "    assert(b2.shape == (n_y, 1))\n",
        "    \n",
        "    parameters = {\"W1\": W1,\"b1\": b1,\"W2\": W2,\"b2\": b2}\n",
        "    \n",
        "    return parameters "
      ],
      "execution_count": null,
      "outputs": []
    },
    {
      "cell_type": "code",
      "metadata": {
        "id": "FDFmFoEiBFYU"
      },
      "source": [
        "def linear_forward(A, W, b):\n",
        "    Z = np.dot(W, A) + b\n",
        "    cache = (A, W, b)\n",
        "    return Z, cache"
      ],
      "execution_count": null,
      "outputs": []
    },
    {
      "cell_type": "code",
      "metadata": {
        "id": "oDCRAOKJBgSt"
      },
      "source": [
        "def linear_activation_forward(A_prev, W, b, activation):\n",
        "    \n",
        "    if activation == \"sigmoid\":\n",
        "        Z, linear_cache  = linear_forward(A_prev, W, b)\n",
        "        A, activation_cache = sigmoid(Z)\n",
        "    \n",
        "    elif activation == \"relu\":\n",
        "    \n",
        "        Z, linear_cache = linear_forward(A_prev, W, b)\n",
        "        A, activation_cache = relu(Z)\n",
        "\n",
        "    cache=(linear_cache,activation_cache)\n",
        "\n",
        "    return A, cache"
      ],
      "execution_count": null,
      "outputs": []
    },
    {
      "cell_type": "markdown",
      "metadata": {
        "id": "MTDs9YLLH9j1"
      },
      "source": [
        "**This part is directly used from one of the coursera assignment as this are the functions that can be easily calculated and also the documentation comments will help us to understand this code easily**"
      ]
    },
    {
      "cell_type": "code",
      "metadata": {
        "id": "9qwDnrAlcmhy"
      },
      "source": [
        "def compute_cost(A2,Y):\n",
        "    m=Y.shape[1]\n",
        "\n",
        "   # cost = -1./m* np.sum(Y*np.log(A2) + (1-Y)*np.log(1-A2)) # i have USED THIS IN LOGISTIC REGRESSION\n",
        "    half_cost = np.multiply(np.log(A2),Y) +  np.multiply(np.log(1-A2), (1-Y))\n",
        "    cost = -1/m*np.sum(half_cost)\n",
        "\n",
        "    return cost"
      ],
      "execution_count": null,
      "outputs": []
    },
    {
      "cell_type": "code",
      "metadata": {
        "id": "UluIeLnEcmkf"
      },
      "source": [
        "def linear_backward(dZ, cache):\n",
        "    \n",
        "    A_prev, W, b = cache\n",
        "    m = A_prev.shape[1]\n",
        "\n",
        "    dW = 1./m*np.dot(dZ, A_prev.T)\n",
        "    db = 1./m*np.sum(dZ, axis = 1, keepdims=True)\n",
        "    dA_prev = np.dot(W.T, dZ)\n",
        "    \n",
        "    return dA_prev, dW, db"
      ],
      "execution_count": null,
      "outputs": []
    },
    {
      "cell_type": "code",
      "metadata": {
        "id": "2IdXZa0ZcmmP"
      },
      "source": [
        "##By doing like this it will help us to create deep neural network\n",
        "##just by calling this function and giving the activation function as a\n",
        "## paramater we want.We require only one sigmoid at last layer and remaining\n",
        "##according to the requirements  .\n",
        "def linear_activation_backward(dA, cache, activation):\n",
        "\n",
        "    linear_cache, activation_cache = cache\n",
        "    \n",
        "    if activation == \"relu\":                                     \n",
        "        dZ = relu_backward(dA, activation_cache)\n",
        "        dA_prev, dW, db = linear_backward(dZ, linear_cache)  \n",
        "  \n",
        "    elif activation == \"sigmoid\":\n",
        "        dZ = sigmoid_backward(dA, activation_cache)\n",
        "        dA_prev, dW, db = linear_backward(dZ, linear_cache)\n",
        "\n",
        "    \n",
        "    return dA_prev, dW, db"
      ],
      "execution_count": null,
      "outputs": []
    },
    {
      "cell_type": "code",
      "metadata": {
        "id": "wSeqzKgpfBUX"
      },
      "source": [
        "def update_parameters(parameters, grads, learning_rate):\n",
        "  \n",
        "    L = len(parameters) // 2\n",
        "    for l in range(L):\n",
        "        parameters[\"W\" + str(l+1)] = parameters[\"W\" + str(l+1)] - learning_rate * grads[\"dW\" + str(l + 1)]\n",
        "        parameters[\"b\" + str(l+1)] = parameters[\"b\" + str(l+1)] - learning_rate * grads[\"db\" + str(l + 1)]\n",
        "        \n",
        "    return parameters\n"
      ],
      "execution_count": null,
      "outputs": []
    },
    {
      "cell_type": "code",
      "metadata": {
        "id": "yK3vt5uEfsFJ"
      },
      "source": [
        "layer_dims=layer_sizes(train_set_x,train_set_y)"
      ],
      "execution_count": null,
      "outputs": []
    },
    {
      "cell_type": "code",
      "metadata": {
        "id": "_OWEEaBzcmpE"
      },
      "source": [
        "def two_layer_model(X, Y, layers_dims, learning_rate = 0.0078, num_iterations = 3000, print_cost=False):\n",
        "    \n",
        "    grads = {}\n",
        "    costs = []                              # to keep track of the cost\n",
        "    m = X.shape[1]                           # number of examples\n",
        "    (n_x, n_h, n_y) = layers_dims\n",
        "    \n",
        "    parameters = initialize_parameters(n_x, n_h, n_y)\n",
        "\n",
        "    W1 = parameters[\"W1\"]\n",
        "    b1 = parameters[\"b1\"]\n",
        "    W2 = parameters[\"W2\"]\n",
        "    b2 = parameters[\"b2\"]\n",
        "\n",
        "    for i in range(0, num_iterations):\n",
        "\n",
        "        A1, cache1 = linear_activation_forward(X, W1, b1, activation='relu')\n",
        "        A2, cache2 = linear_activation_forward(A1, W2, b2, activation='sigmoid')\n",
        "    \n",
        "        cost = compute_cost(A2, Y)\n",
        "        \n",
        "        \n",
        "        # Calculating  dj/da  and initlaizing the backward propogation\n",
        "        dA2 = - (np.divide(Y, A2) - np.divide(1 - Y, 1 - A2))\n",
        "        \n",
        "        dA1, dW2, db2 =  linear_activation_backward(dA2, cache2, activation='sigmoid')\n",
        "        dA0, dW1, db1 =  linear_activation_backward(dA1, cache1, activation='relu')\n",
        "    \n",
        "  \n",
        "        grads['dW1'] = dW1\n",
        "        grads['db1'] = db1\n",
        "        grads['dW2'] = dW2\n",
        "        grads['db2'] = db2\n",
        "        \n",
        "        parameters = update_parameters(parameters, grads, learning_rate)\n",
        "\n",
        "        W1 = parameters[\"W1\"]\n",
        "        b1 = parameters[\"b1\"]\n",
        "        W2 = parameters[\"W2\"]\n",
        "        b2 = parameters[\"b2\"]\n",
        "        \n",
        "        \n",
        "        if print_cost and i % 100 == 0:\n",
        "            print(\"Cost after iteration {}: {}\".format(i, np.squeeze(cost)))\n",
        "        if print_cost and i % 100 == 0:\n",
        "            costs.append(cost)\n",
        "       \n",
        "    plt.plot(np.squeeze(costs))\n",
        "    plt.ylabel('cost')\n",
        "    plt.xlabel('iterations (per tens)')\n",
        "    plt.title(\"Learning rate =\" + str(learning_rate))\n",
        "    plt.show()\n",
        "    \n",
        "    return parameters"
      ],
      "execution_count": null,
      "outputs": []
    },
    {
      "cell_type": "code",
      "metadata": {
        "colab": {
          "base_uri": "https://localhost:8080/",
          "height": 815
        },
        "id": "tYby-T1nW57G",
        "outputId": "14a4425f-589d-4a59-8bf0-6dc91122e394"
      },
      "source": [
        "params = two_layer_model(train_set_x, train_set_y, layer_dims, num_iterations = 3000, print_cost=True)\n"
      ],
      "execution_count": null,
      "outputs": [
        {
          "output_type": "stream",
          "name": "stdout",
          "text": [
            "Cost after iteration 0: 0.6936162964164335\n",
            "Cost after iteration 100: 0.646048574341943\n",
            "Cost after iteration 200: 0.6313625113604593\n",
            "Cost after iteration 300: 0.5985026664047187\n",
            "Cost after iteration 400: 0.5548719990060881\n",
            "Cost after iteration 500: 0.5083125618757296\n",
            "Cost after iteration 600: 0.4486503005013144\n",
            "Cost after iteration 700: 0.408365688409051\n",
            "Cost after iteration 800: 0.40530042257605475\n",
            "Cost after iteration 900: 0.3703646233747492\n",
            "Cost after iteration 1000: 0.34045826766759074\n",
            "Cost after iteration 1100: 0.3099797596143704\n",
            "Cost after iteration 1200: 0.29073593748932913\n",
            "Cost after iteration 1300: 0.2643682237559935\n",
            "Cost after iteration 1400: 0.33491752026184635\n",
            "Cost after iteration 1500: 0.1606964605738221\n",
            "Cost after iteration 1600: 0.12193765781373392\n",
            "Cost after iteration 1700: 0.10078673359355449\n",
            "Cost after iteration 1800: 0.08514249860682645\n",
            "Cost after iteration 1900: 0.06937232570721186\n",
            "Cost after iteration 2000: 0.060012623259366384\n",
            "Cost after iteration 2100: 0.052361021427750544\n",
            "Cost after iteration 2200: 0.046059671502024876\n",
            "Cost after iteration 2300: 0.040953035816039374\n",
            "Cost after iteration 2400: 0.0365264864694136\n",
            "Cost after iteration 2500: 0.03286880776326175\n",
            "Cost after iteration 2600: 0.02975866302542305\n",
            "Cost after iteration 2700: 0.027116469584850766\n",
            "Cost after iteration 2800: 0.024803809499077994\n",
            "Cost after iteration 2900: 0.022787770872383442\n"
          ]
        },
        {
          "output_type": "display_data",
          "data": {
            "image/png": "[encoded data removed]",
            "text/plain": [
              "<Figure size 432x288 with 1 Axes>"
            ]
          },
          "metadata": {
            "needs_background": "light"
          }
        }
      ]
    },
    {
      "cell_type": "code",
      "metadata": {
        "id": "BwvGnhL1cmqx"
      },
      "source": [
        "def predict(params,X):\n",
        "  w1=params[\"W1\"]\n",
        "  b1=params[\"b1\"]\n",
        "  w2=params[\"W2\"]\n",
        "  b2=params[\"b2\"]\n",
        "  Y_prediction = np.zeros((1,1))\n",
        "  Z = np.dot(w1, X) + b1\n",
        "  a1,use_less=relu(Z)\n",
        "  Z2= np.dot(w2,a1) + b2 \n",
        "  a2,use_less=sigmoid(Z2)\n",
        "\n",
        "  for i in range(a2.shape[1]):\n",
        "    \n",
        "    if(a2[0][i]>0.5):\n",
        "      Y_prediction[0][i]=1\n",
        "    else:\n",
        "      Y_prediction[0][i]=0\n",
        "    \n",
        "  return Y_prediction\n"
      ],
      "execution_count": null,
      "outputs": []
    },
    {
      "cell_type": "markdown",
      "metadata": {
        "id": "QEHwZmM8ZuuW"
      },
      "source": [
        "**Testing our own image to check whther our algorithm is working properly or not**"
      ]
    },
    {
      "cell_type": "code",
      "metadata": {
        "id": "LqYs8nCrcmt0",
        "colab": {
          "base_uri": "https://localhost:8080/",
          "height": 320
        },
        "outputId": "c24426a5-8daa-428b-faa2-bcc5e8b624dc"
      },
      "source": [
        "index = 1\n",
        "plt.imshow(train_set_x_orig[index])\n",
        "img_flatten=train_set_x_orig[index].reshape(1,-1).T\n",
        "a=predict(params,img_flatten)\n",
        "if(a[0][0]>0.6):\n",
        "  print(\"It is a cat\")\n",
        "else:\n",
        "  print(\"Not a cat\")"
      ],
      "execution_count": null,
      "outputs": [
        {
          "output_type": "stream",
          "name": "stdout",
          "text": [
            "Not a cat\n"
          ]
        },
        {
          "output_type": "stream",
          "name": "stderr",
          "text": [
            "/usr/local/lib/python3.7/dist-packages/ipykernel_launcher.py:13: RuntimeWarning: overflow encountered in exp\n",
            "  del sys.path[0]\n"
          ]
        },
        {
          "output_type": "display_data",
          "data": {
            "image/png": "[encoded data removed]",
            "text/plain": [
              "<Figure size 432x288 with 1 Axes>"
            ]
          },
          "metadata": {
            "needs_background": "light"
          }
        }
      ]
    },
    {
      "cell_type": "markdown",
      "metadata": {
        "id": "M5MbAUWUcRhz"
      },
      "source": [
        "**In similar way we can also create as many as layers just by initializing the weights.The weigths are initialized by size of the current hidden layer i.e how many neurons are there in single layer and size of the previous hidden layer.**"
      ]
    },
    {
      "cell_type": "code",
      "metadata": {
        "id": "UZy1lWclawtM"
      },
      "source": [
        ""
      ],
      "execution_count": null,
      "outputs": []
    }
  ]
}